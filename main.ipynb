{
 "cells": [
  {
   "cell_type": "markdown",
   "metadata": {},
   "source": [
    "# Reinforcement Learning Techniques in Flappy Bird\n",
    "\n",
    "Reinforcement learning has been the foundation of breakthroughs in go, chess, and protein folding [^1][^2][^3]. It works by using neural networks to in a simulated environment and rewarding it for good behavior. Here, I apply reinforcement learning to the mobile game flappy bird[^4].\n",
    "\n",
    "Continuation of a project that I started two years ago, a final project for a deep learning course. I didn't end up getting it working then, but have been working on it since.\n",
    "\n",
    "[^1]: [Mastering the Game of Go without Human Knowledge](https://discovery.ucl.ac.uk/id/eprint/10045895/1/agz_unformatted_nature.pdf)\\\n",
    "[^2]: [Mastering Chess and Shogi by Planning with a Tree Search](https://arxiv.org/pdf/1712.01815.pdf)\\\n",
    "[^3]: [Highly Accurate Protein Structure Prediction with AlphaFold](https://www.nature.com/articles/s41586-021-03819-2)\\\n",
    "[^4]: [Flappy Bird](https://flappy-bird.co)"
   ]
  },
  {
   "cell_type": "markdown",
   "metadata": {},
   "source": [
    "## Overview of Reinforcement Learning\n",
    "In reinforcement learning, an agent lives in an environment specified by an event loop. The agent must observe the relationship between its actions and the environment's response. The environment's response consists of two things: (1) a reward signal, and (2) a new state.\n",
    "\n",
    "``` python\n",
    "observation = env.get_initial_state()\n",
    "while True:\n",
    "    action = agent.act(observation)\n",
    "    observation, reward, done, info = env.step(action)\n",
    "    agent.learn(observation, reward)\n",
    "```\n",
    "Formally, the environment is defined by four things: (1) the state space $S$, (2) the action space $A$, (3) the transition function $P$, and (4) the reward function $R$.\n",
    "\n",
    "- The state space $S$ is the set of all possible states the agent can observe. \n",
    "- The action space $A$ is the set of all possible actions the agent can take.\n",
    "- The transition function $P(s'|s,a) \\rightarrow [0,1]$ is the probability of transitioning from state $s \\in S$ to state $s' \\in S$ given action $a \\in A$. \n",
    "- The reward function $R(s,a) \\rightarrow \\mathbb{R}$ is the reward the agent receives for transitioning from state $s$ to state $s'$.\n",
    "\n",
    "When the agent interacts with the environment, its interaction can be described as a sequence of states, actions, and rewards:\n",
    "\n",
    "$$\n",
    "(s_0, a_0, r_0, s_1, a_1, r_1, \\cdots)\n",
    "$$\n",
    "\n",
    "[^6]: [Reinforcement Learning: An Introduction](http://incompleteideas.net/book/RLbook2020.pdf)"
   ]
  },
  {
   "cell_type": "markdown",
   "metadata": {},
   "source": [
    "## Flappy Bird Environment\n",
    "I used the flappy bird gymnasium package to create the environment. \n",
    "The Flappy Bird environment is characterized by a state space, an action space, and a reward function. \n",
    "1. The state space $S \\in \\mathbb{R}^{12}$ is a vector of 12 numbers, representing various distances, velocities, and angles related to the bird and the pipes [^8]. \n",
    "2. The action space $A = \\{0, 1\\}$ allows the agent to either \"do nothing\" or \"flap\". \n",
    "3. The transition probability function $P$ is unknown, and the agent must learn it.\n",
    "4. The reward function $R$ provides feedback based on the agent's state transitions, rewarding survival, successful pipe navigation, and penalizing death. The reward function is defined as:\n",
    "\n",
    " $R(s, a, s') = \\begin{cases} +0.1 & \\text{if the agent is alive} \\\\ +1.0 & \\text{if the agent passes through a pipe} \\\\ -1.0 & \\text{if the agent dies} \\end{cases}$\n",
    "\n",
    "\n",
    "[^7]: [Flappy Bird Gymnasium](https://github.com/Kautenja/flappy-bird-gymnasium)\\\n",
    "[^8]: [Flappy Bird State Vector](https://github.com/markub3327/flappy-bird-gymnasium)"
   ]
  },
  {
   "cell_type": "markdown",
   "metadata": {},
   "source": [
    "## Sanity Check for the Flappy Bird Environment\n",
    "\n",
    "Before exploring reinforcement learning techniques, it is important to sanity check the flappy bird environment. Sanity testing the environment will make us more knowledgeable when debugging future issues."
   ]
  },
  {
   "cell_type": "code",
   "execution_count": 19,
   "metadata": {},
   "outputs": [],
   "source": [
    "import flappy_bird_gymnasium\n",
    "import gymnasium\n",
    "import numpy as np\n",
    "from tqdm import tqdm\n",
    "from agent import Agent"
   ]
  },
  {
   "cell_type": "code",
   "execution_count": 20,
   "metadata": {},
   "outputs": [
    {
     "data": {
      "text/html": [
       "<video controls  >\n",
       " <source src=\"data:video/mp4;base64,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\" type=\"video/mp4\">\n",
       " Your browser does not support the video tag.\n",
       " </video>"
      ],
      "text/plain": [
       "<IPython.core.display.Video object>"
      ]
     },
     "execution_count": 20,
     "metadata": {},
     "output_type": "execute_result"
    }
   ],
   "source": [
    "import gymnasium\n",
    "import cv2\n",
    "import numpy as np\n",
    "from IPython.display import Video\n",
    "\n",
    "# Create the environment\n",
    "env = gymnasium.make(\"FlappyBird-v0\", \n",
    "                     render_mode=\"rgb_array\",\n",
    "                     use_lidar=False,\n",
    "                     normalize_obs=True)\n",
    "\n",
    "fourcc = cv2.VideoWriter_fourcc(*'avc1')  \n",
    "out = cv2.VideoWriter('flappy_bird.mp4', fourcc, 30.0, (288, 512))\n",
    "\n",
    "env.reset()\n",
    "while True:\n",
    "    obs, reward, terminal, _, _ = env.step(env.action_space.sample())\n",
    "    image = env.render()\n",
    "    \n",
    "    # Convert the image from RGB to BGR\n",
    "    image_bgr = cv2.cvtColor(image, cv2.COLOR_RGB2BGR)\n",
    "    \n",
    "    # Write the frame to the video file\n",
    "    out.write(image_bgr)\n",
    "    \n",
    "    if terminal:\n",
    "        break    \n",
    "\n",
    "# Release resources\n",
    "env.close()\n",
    "out.release()\n",
    "\n",
    "# Display the converted video in the notebook\n",
    "Video(\"flappy_bird.mp4\", embed=True)"
   ]
  },
  {
   "cell_type": "code",
   "execution_count": null,
   "metadata": {},
   "outputs": [],
   "source": []
  },
  {
   "cell_type": "markdown",
   "metadata": {},
   "source": [
    "### Agent Class\n"
   ]
  }
 ],
 "metadata": {
  "kernelspec": {
   "display_name": ".venv",
   "language": "python",
   "name": "python3"
  },
  "language_info": {
   "codemirror_mode": {
    "name": "ipython",
    "version": 3
   },
   "file_extension": ".py",
   "mimetype": "text/x-python",
   "name": "python",
   "nbconvert_exporter": "python",
   "pygments_lexer": "ipython3",
   "version": "3.12.7"
  }
 },
 "nbformat": 4,
 "nbformat_minor": 2
}
